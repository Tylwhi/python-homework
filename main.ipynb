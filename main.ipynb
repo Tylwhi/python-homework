{
 "cells": [
  {
   "cell_type": "code",
   "execution_count": null,
   "id": "0f00f758-98c1-4355-ab03-5a419bba2b81",
   "metadata": {},
   "outputs": [],
   "source": []
  },
  {
   "cell_type": "code",
   "execution_count": 81,
   "id": "c534237a-5289-4ed3-8eec-1e5d3fe539a5",
   "metadata": {},
   "outputs": [],
   "source": [
    "buget_data = [\n",
    "    {\"date\" : \"Jan-2010\", \"profit_losses\" : 867884},\n",
    "    {\"date\" : \"Feb-2010\", \"profit_losses\" : 984655},\n",
    "    {\"date\" : \"Mar-2010\", \"profit_losses\" : 322013},\n",
    "    {\"date\" : \"Apr-2010\", \"profit_losses\" : -69417},\n",
    "    {\"date\" : \"May-2010\", \"profit_losses\" : 310503},\n",
    "    {\"date\" : \"Jun-2010\", \"profit_losses\" : 522857},\n",
    "    {\"date\" : \"Jul-2010\", \"profit_losses\" : 1033096},\n",
    "    {\"date\" : \"Aug-2010\", \"profit_losses\" : 604885},\n",
    "    {\"date\" : \"Sep-2010\", \"profit_losses\" : -216386},\n",
    "    {\"date\" : \"Oct-2010\", \"profit_losses\" : 477532},\n",
    "    {\"date\" : \"Nov-2010\", \"profit_losses\" : 893810},\n",
    "    {\"date\" : \"Dec-2010\", \"profit_losses\" : -80353},\n",
    "    {\"date\" : \"Jan-2011\", \"profit_losses\" : 779806},\n",
    "    {\"date\" : \"Feb-2011\", \"profit_losses\" : -335203},\n",
    "    {\"date\" : \"Mar-2011\", \"profit_losses\" : 697845},\n",
    "    {\"date\" : \"Apr-2011\", \"profit_losses\" : 793163},\n",
    "    {\"date\" : \"May-2011\", \"profit_losses\" : 485070},\n",
    "    {\"date\" : \"Jun-2011\", \"profit_losses\" : 584122},\n",
    "    {\"date\" : \"Jul-2011\", \"profit_losses\" : 62729},\n",
    "    {\"date\" : \"Aug-2011\", \"profit_losses\" : 668179},\n",
    "    {\"date\" : \"Sep-2011\", \"profit_losses\" : 899906},\n",
    "    {\"date\" : \"Oct-2011\", \"profit_losses\" : 834719},\n",
    "    {\"date\" : \"Nov-2011\", \"profit_losses\" : 132003},\n",
    "    {\"date\" : \"Dec-2011\", \"profit_losses\" : 309978},\n",
    "    {\"date\" : \"Jan-2012\", \"profit_losses\" : -755566},\n",
    "    {\"date\" : \"Feb-2012\", \"profit_losses\" : 1170593},\n",
    "    {\"date\" : \"Mar-2012\", \"profit_losses\" : 1151518},\n",
    "    {\"date\" : \"Apr-2012\", \"profit_losses\" : 793163},\n",
    "    {\"date\" : \"May-2012\", \"profit_losses\" : 817256},\n",
    "    {\"date\" : \"Jun-2012\", \"profit_losses\" : 570757},\n",
    "    {\"date\" : \"Jul-2012\", \"profit_losses\" : 506702},\n",
    "    {\"date\" : \"Aug-2012\", \"profit_losses\" : -1022534},\n",
    "    {\"date\" : \"Sep-2012\", \"profit_losses\" : 475062},\n",
    "    {\"date\" : \"Oct-2012\", \"profit_losses\" : 779976},\n",
    "    {\"date\" : \"Nov-2012\", \"profit_losses\" : 144175},\n",
    "    {\"date\" : \"Dec-2012\", \"profit_losses\" : 542494},\n",
    "    {\"date\" : \"Jan-2013\", \"profit_losses\" : 359333},\n",
    "    {\"date\" : \"Feb-2013\", \"profit_losses\" : 321469},\n",
    "    {\"date\" : \"Mar-2013\", \"profit_losses\" : 67780},\n",
    "    {\"date\" : \"Apr-2013\", \"profit_losses\" : 471435},\n",
    "    {\"date\" : \"May-2013\", \"profit_losses\" : 565603},\n",
    "    {\"date\" : \"Jun-2013\", \"profit_losses\" : 872480},\n",
    "    {\"date\" : \"Jul-2013\", \"profit_losses\" : 789480},\n",
    "    {\"date\" : \"Aug-2013\", \"profit_losses\" : 999942},\n",
    "    {\"date\" : \"Sep-2013\", \"profit_losses\" : -1196225},\n",
    "    {\"date\" : \"Oct-2013\", \"profit_losses\" : 268997},\n",
    "    {\"date\" : \"Nov-2013\", \"profit_losses\" : -687986},\n",
    "    {\"date\" : \"Dec-2013\", \"profit_losses\" : 1150461},\n",
    "    {\"date\" : \"Jan-2014\", \"profit_losses\" : 682458},\n",
    "    {\"date\" : \"Feb-2014\", \"profit_losses\" : 617856},\n",
    "    {\"date\" : \"Mar-2014\", \"profit_losses\" : 824098},\n",
    "    {\"date\" : \"Apr-2014\", \"profit_losses\" : 581943},\n",
    "    {\"date\" : \"May-2014\", \"profit_losses\" : 132864},\n",
    "    {\"date\" : \"Jun-2014\", \"profit_losses\" : 448062},\n",
    "    {\"date\" : \"Jul-2014\", \"profit_losses\" : 689161},\n",
    "    {\"date\" : \"Aug-2014\", \"profit_losses\" : 800701},\n",
    "    {\"date\" : \"Sep-2014\", \"profit_losses\" : 1166643},\n",
    "    {\"date\" : \"Oct-2014\", \"profit_losses\" : 947333},\n",
    "    {\"date\" : \"Nov-2014\", \"profit_losses\" : 578668},\n",
    "    {\"date\" : \"Dec-2014\", \"profit_losses\" : 988505},\n",
    "    {\"date\" : \"Jan-2015\", \"profit_losses\" : 1139715}\n",
    "    {\"date\" : \"Feb-2015\", \"profit_losses\" : 1029471},\n",
    "    {\"date\" : \"Mar-2015\", \"profit_losses\" : 687533},\n",
    "    {\"date\" : \"Apr-2015\", \"profit_losses\" : -524626},\n",
    "    {\"date\" : \"May-2015\", \"profit_losses\" : 158620},\n",
    "    {\"date\" : \"Jun-2015\", \"profit_losses\" : 87795},\n",
    "    {\"date\" : \"Jul-2015\", \"profit_losses\" : 423389},\n",
    "    {\"date\" : \"Aug-2015\", \"profit_losses\" : 840723},\n",
    "    {\"date\" : \"Sep-2015\", \"profit_losses\" : 568529},\n",
    "    {\"date\" : \"Oct-2015\", \"profit_losses\" : 332067},\n",
    "    {\"date\" : \"Nov-2015\", \"profit_losses\" : 989499},\n",
    "    {\"date\" : \"Dec-2015\", \"profit_losses\" : 778237},\n",
    "    {\"date\" : \"Jan-2016\", \"profit_losses\" : 650000},\n",
    "    {\"date\" : \"Feb-2016\", \"profit_losses\" : -1100387},\n",
    "    {\"date\" : \"Mar-2016\", \"profit_losses\" : -174946},\n",
    "    {\"date\" : \"Apr-2016\", \"profit_losses\" : 757143},\n",
    "    {\"date\" : \"May-2016\", \"profit_losses\" : 445709},\n",
    "    {\"date\" : \"Jun-2016\", \"profit_losses\" : 712961},\n",
    "    {\"date\" : \"Jul-2016\", \"profit_losses\" : -1163797},\n",
    "    {\"date\" : \"Aug-2016\", \"profit_losses\" : 569899},\n",
    "    {\"date\" : \"Sep-2016\", \"profit_losses\" : 768450},\n",
    "    {\"date\" : \"Oct-2016\", \"profit_losses\" : 102685},\n",
    "    {\"date\" : \"Nov-2016\", \"profit_losses\" : 795914},\n",
    "    {\"date\" : \"Dec-2016\", \"profit_losses\" : 60988},\n",
    "    {\"date\" : \"Jan-2017\", \"profit_losses\" : 138230},\n",
    "    {\"date\" : \"Feb-2017\", \"profit_losses\" : 671099}\n",
    "]"
   ]
  },
  {
   "cell_type": "code",
   "execution_count": 84,
   "id": "5ba41d8f-bc21-4cde-afc5-370c757e55fb",
   "metadata": {},
   "outputs": [],
   "source": [
    "total_months = len(buget_data)"
   ]
  },
  {
   "cell_type": "code",
   "execution_count": 121,
   "id": "7ba11d5d-8851-430f-a9ee-ac9d754bc389",
   "metadata": {},
   "outputs": [
    {
     "name": "stdout",
     "output_type": "stream",
     "text": [
      "86\n"
     ]
    }
   ],
   "source": [
    "print(total_months)"
   ]
  },
  {
   "cell_type": "code",
   "execution_count": 123,
   "id": "f2e6aa00-1546-4fc9-89b2-773a22fce1f2",
   "metadata": {},
   "outputs": [],
   "source": [
    "total = 38254774"
   ]
  },
  {
   "cell_type": "code",
   "execution_count": 126,
   "id": "e0c00a8a-ca2f-4501-9895-aea594a75023",
   "metadata": {},
   "outputs": [],
   "source": [
    "Average = total/total_months"
   ]
  },
  {
   "cell_type": "code",
   "execution_count": 150,
   "id": "9ba7b9b3-6034-4578-9aff-91c04f320752",
   "metadata": {},
   "outputs": [
    {
     "name": "stdout",
     "output_type": "stream",
     "text": [
      "Financial Analysis \n",
      "--------------------- \n",
      "Total Months: 86 \n",
      "Total: $38254774 \n",
      "Average  Change: $444822.95 \n",
      "Greatest Increase in Profits:  \n",
      "Greatest Decrease in Profits: \n"
     ]
    }
   ],
   "source": [
    "print(f'Financial Analysis \\n--------------------- \\nTotal Months: {total_months} \\nTotal: ${total} \\nAverage  Change: ${Average:.2f} \\nGreatest Increase in Profits:  \\nGreatest Decrease in Profits: ')"
   ]
  },
  {
   "cell_type": "code",
   "execution_count": 134,
   "id": "c2a91d25-5603-48fa-bca0-1d81120079be",
   "metadata": {},
   "outputs": [],
   "source": [
    "for no in buget_data:\n",
    "    amount = no[\"profit_losses\"]"
   ]
  }
 ],
 "metadata": {
  "kernelspec": {
   "display_name": "Python 3",
   "language": "python",
   "name": "python3"
  },
  "language_info": {
   "codemirror_mode": {
    "name": "ipython",
    "version": 3
   },
   "file_extension": ".py",
   "mimetype": "text/x-python",
   "name": "python",
   "nbconvert_exporter": "python",
   "pygments_lexer": "ipython3",
   "version": "3.8.8"
  }
 },
 "nbformat": 4,
 "nbformat_minor": 5
}
